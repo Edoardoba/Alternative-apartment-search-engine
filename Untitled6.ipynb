{
 "cells": [
  {
   "cell_type": "code",
   "execution_count": 2,
   "metadata": {},
   "outputs": [],
   "source": [
    "import csv\n",
    "import pandas as pd\n",
    "\n",
    "\n",
    "\n",
    "#airbnbdata = csv.reader(open('Airbnb_Texas_Rentals.csv','r'))"
   ]
  },
  {
   "cell_type": "code",
   "execution_count": null,
   "metadata": {},
   "outputs": [],
   "source": [
    "for i in len(airbnbdata):\n",
    "    print(i)"
   ]
  },
  {
   "cell_type": "code",
   "execution_count": 3,
   "metadata": {},
   "outputs": [],
   "source": [
    "air = pd.read_csv('Airbnb_Texas_Rentals.csv')"
   ]
  },
  {
   "cell_type": "code",
   "execution_count": null,
   "metadata": {},
   "outputs": [],
   "source": [
    "len(air)"
   ]
  },
  {
   "cell_type": "code",
   "execution_count": null,
   "metadata": {},
   "outputs": [],
   "source": [
    "i = 0\n",
    "while(True):\n",
    "    for row in air.reset_index().values:\n",
    "    #print (row[2:])\n",
    "        row[2:].tofile(str('doc_' ) + str(i), sep ='\\t')\n",
    "        i+=1\n",
    "    #row[2:].tofile(str(row[0])+'.bed', sep=\"\\t\", format=\"%s\")\n",
    "    \n",
    "    #row[1:].tofile(str(row[0])+'.bed', sep=\"\\t\", format=\"%s\")"
   ]
  },
  {
   "cell_type": "code",
   "execution_count": null,
   "metadata": {},
   "outputs": [],
   "source": [
    "import csv\n",
    "import pandas as pd\n",
    "\n",
    "air = pd.read_csv('Airbnb_Texas_Rentals.csv')\n",
    "\n",
    "i = 0\n",
    "for row in air.reset_index().values:\n",
    "    #print (row[2:])\n",
    "    row[2:].tofile(str('doc_' ) + str(i), sep ='\\t')\n",
    "    i+=1\n",
    "    #row[2:].tofile(str(row[0])+'.bed', sep=\"\\t\", format=\"%s\")\n",
    "    \n",
    "    #row[1:].tofile(str(row[0])+'.bed', sep=\"\\t\", format=\"%s\")"
   ]
  },
  {
   "cell_type": "code",
   "execution_count": 4,
   "metadata": {},
   "outputs": [
    {
     "data": {
      "text/plain": [
       "array([[0, 1, '$27', ..., -95.29399600425128,\n",
       "        '2 Private rooms/bathroom 10min from IAH airport',\n",
       "        'https://www.airbnb.com/rooms/18520444?location=Cleveland%2C%20TX'],\n",
       "       [1, 2, '$149', ..., -98.4476879378504,\n",
       "        'Unique Location! Alamo Heights - Designer Inspired',\n",
       "        'https://www.airbnb.com/rooms/17481455?location=Cibolo%2C%20TX'],\n",
       "       [2, 3, '$59', ..., -95.0815494887563, 'River house near the city',\n",
       "        'https://www.airbnb.com/rooms/16926307?location=Beach%20City%2C%20TX'],\n",
       "       ..., \n",
       "       [18256, 18257, '$13', ..., -96.77761541416679, 'Room in Dallas!',\n",
       "        'https://www.airbnb.com/rooms/18719059?location=Addison%2C%20TX'],\n",
       "       [18257, 18258, '$65', ..., -98.5053329219224,\n",
       "        'Vibrant Spacious Loft!',\n",
       "        'https://www.airbnb.com/rooms/18179329?location=Alamo%20Heights%2C%20TX'],\n",
       "       [18258, 18259, '$75', ..., -98.4668328630517,\n",
       "        'Brand New Modern Pod in Historic Dignowity Hill',\n",
       "        'https://www.airbnb.com/rooms/16318144?location=Alamo%20Heights%2C%20TX']], dtype=object)"
      ]
     },
     "execution_count": 4,
     "metadata": {},
     "output_type": "execute_result"
    }
   ],
   "source": [
    "air.reset_index().values"
   ]
  },
  {
   "cell_type": "code",
   "execution_count": null,
   "metadata": {},
   "outputs": [],
   "source": []
  }
 ],
 "metadata": {
  "kernelspec": {
   "display_name": "Python 3",
   "language": "python",
   "name": "python3"
  },
  "language_info": {
   "codemirror_mode": {
    "name": "ipython",
    "version": 3
   },
   "file_extension": ".py",
   "mimetype": "text/x-python",
   "name": "python",
   "nbconvert_exporter": "python",
   "pygments_lexer": "ipython3",
   "version": "3.6.2"
  }
 },
 "nbformat": 4,
 "nbformat_minor": 2
}
